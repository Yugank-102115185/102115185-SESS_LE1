{
  "nbformat": 4,
  "nbformat_minor": 0,
  "metadata": {
    "colab": {
      "provenance": [],
      "authorship_tag": "ABX9TyMKKpIbxHKZcndail7FY79S",
      "include_colab_link": true
    },
    "kernelspec": {
      "name": "python3",
      "display_name": "Python 3"
    },
    "language_info": {
      "name": "python"
    }
  },
  "cells": [
    {
      "cell_type": "markdown",
      "metadata": {
        "id": "view-in-github",
        "colab_type": "text"
      },
      "source": [
        "<a href=\"https://colab.research.google.com/github/Yugank-102115185/102115185-SESS_LE1/blob/main/Demo_102115185.ipynb\" target=\"_parent\"><img src=\"https://colab.research.google.com/assets/colab-badge.svg\" alt=\"Open In Colab\"/></a>"
      ]
    },
    {
      "cell_type": "code",
      "execution_count": null,
      "metadata": {
        "id": "64yWVXqjRGn_"
      },
      "outputs": [],
      "source": [
        "!pip install gdown\n",
        "\n",
        "!gdown --id 11LjBOSmYpbHWtzozuKX4K2Q-dTg3VHyx -O fine_tuned_speech_command_classifier.h5\n",
        "\n",
        "!apt-get install -y -qq unzip\n",
        "!pip install -U -q PyDrive\n",
        "\n",
        "!gdown --id 1OxlWRAL_PVbB9epYbz9G5vGPDzq7B4aB -O new_voice_samples.zip\n",
        "\n",
        "\n"
      ]
    },
    {
      "cell_type": "code",
      "source": [
        "!unzip new_voice_samples.zip\n",
        "import hashlib\n",
        "\n",
        "def calculate_checksum(file_path, hash_algo='md5'):\n",
        "    hash_func = hashlib.new(hash_algo)\n",
        "    with open(file_path, 'rb') as f:\n",
        "        while chunk := f.read(8192):\n",
        "            hash_func.update(chunk)\n",
        "    return hash_func.hexdigest()\n",
        "\n",
        "model_checksum = calculate_checksum('fine_tuned_speech_command_classifier.h5')\n",
        "print(f\"Model Checksum: {model_checksum}\")\n",
        "\n",
        "dataset_file = 'new_voice_samples/wow/yugank_wow15.wav'\n",
        "dataset_checksum = calculate_checksum(dataset_file)\n",
        "print(f\"Dataset Checksum: {dataset_checksum}\")\n",
        "\n",
        "import tensorflow as tf\n",
        "import numpy as np\n",
        "import os\n",
        "import librosa\n",
        "\n",
        "model = tf.keras.models.load_model('fine_tuned_speech_command_classifier.h5')\n",
        "\n",
        "def load_audio_file(file_path):\n",
        "    y, sr = librosa.load(file_path, sr=16000)\n",
        "    mfcc = librosa.feature.mfcc(y=y, sr=sr, n_mfcc=40)\n",
        "    return np.mean(mfcc.T, axis=0)\n",
        "\n",
        "sample_file = 'new_voice_samples/wow/yugank_wow15.wav'\n",
        "mfcc = load_audio_file(sample_file)\n",
        "mfcc = mfcc.reshape(1, -1)\n",
        "\n",
        "prediction = model.predict(mfcc)\n",
        "predicted_label = np.argmax(prediction, axis=1)\n",
        "\n",
        "print(f\"Predicted Label: {predicted_label}\")\n"
      ],
      "metadata": {
        "id": "q1ZySD5eYUeX"
      },
      "execution_count": null,
      "outputs": []
    },
    {
      "cell_type": "code",
      "source": [
        "print(f\"Model Checksum: {model_checksum}\")\n",
        "print(f\"Dataset Checksum: {dataset_checksum}\")\n",
        "print(f\"Predicted Label: {predicted_label}\")"
      ],
      "metadata": {
        "colab": {
          "base_uri": "https://localhost:8080/"
        },
        "id": "wN2t76L8VYku",
        "outputId": "eccb7276-4c4f-46f8-e40b-d51ad1912738"
      },
      "execution_count": 9,
      "outputs": [
        {
          "output_type": "stream",
          "name": "stdout",
          "text": [
            "Model Checksum: fdf23b9aec6af871e0cf3de558640361\n",
            "Dataset Checksum: 55a9bfa901db21365903864894c6c3cc\n",
            "Predicted Label: [8]\n"
          ]
        }
      ]
    }
  ]
}